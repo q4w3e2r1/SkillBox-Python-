{
  "cells": [
    {
      "cell_type": "markdown",
      "metadata": {
        "id": "5PCKYT3D4iks"
      },
      "source": [
        "Соединяемся с базой, если указать имя файла как `:memory:`, база будет создана в оперативной памяти.\n",
        "\n",
        "    You can also supply the special name :memory: to create a database in RAM."
      ]
    },
    {
      "cell_type": "markdown",
      "source": [
        "# Новый раздел"
      ],
      "metadata": {
        "id": "iVi5Jyplevm8"
      }
    },
    {
      "cell_type": "code",
      "execution_count": null,
      "metadata": {
        "id": "RhEmuVuM4ikx"
      },
      "outputs": [],
      "source": [
        "import sqlite3\n",
        "conn = sqlite3.connect('netflix.sqlite')"
      ]
    },
    {
      "cell_type": "markdown",
      "metadata": {
        "id": "F79vUfox4ikz"
      },
      "source": [
        "<a href=\"https://docs.python.org/3/library/sqlite3.html\">Документация</a>"
      ]
    },
    {
      "cell_type": "code",
      "execution_count": null,
      "metadata": {
        "id": "ZVqgNXE84ik1"
      },
      "outputs": [],
      "source": [
        "c = conn.cursor() # Стандартный курсор = итератор по результатам запросов."
      ]
    },
    {
      "cell_type": "code",
      "execution_count": null,
      "metadata": {
        "colab": {
          "base_uri": "https://localhost:8080/"
        },
        "id": "n6E0yQEc4ik2",
        "outputId": "a63ba57f-02c7-4c3b-b8d0-dc537eb1a621"
      },
      "outputs": [
        {
          "output_type": "stream",
          "name": "stdout",
          "text": [
            "(81145628, 'Movie', 'Norm of the North: King Sized Adventure', 'Richard Finn, Tim Maltby', 'Alan Marriott, Andrew Toth, Brian Dobson, Cole Howard, Jennifer Cameron, Jonathan Holmes, Lee Tockar, Lisa Durupt, Maya Kay, Michael Dobson', 'United States, India, South Korea, China', 'September 9, 2019', 2019, 'TV-PG', '90 min', 'Children & Family Movies, Comedies', 'Before planning an awesome wedding for his grandfather, a polar bear king must take back a stolen artifact from an evil archaeologist first.')\n",
            "(80117401, 'Movie', 'Jandino: Whatever it Takes', '', 'Jandino Asporaat', 'United Kingdom', 'September 9, 2016', 2016, 'TV-MA', '94 min', 'Stand-Up Comedy', 'Jandino Asporaat riffs on the challenges of raising kids and serenades the audience with a rousing rendition of \"Sex on Fire\" in his comedy show.')\n",
            "(70234439, 'TV Show', 'Transformers Prime', '', 'Peter Cullen, Sumalee Montano, Frank Welker, Jeffrey Combs, Kevin Michael Richardson, Tania Gunadi, Josh Keaton, Steve Blum, Andy Pessoa, Ernie Hudson, Daran Norris, Will Friedle', 'United States', 'September 8, 2018', 2013, 'TV-Y7-FV', '1 Season', \"Kids' TV\", 'With the help of three human allies, the Autobots once again protect Earth from the onslaught of the Decepticons and their leader, Megatron.')\n"
          ]
        }
      ],
      "source": [
        "for row in c.execute(\"SELECT * FROM netflix_titles limit 3\"):\n",
        "    print(row)"
      ]
    },
    {
      "cell_type": "markdown",
      "metadata": {
        "id": "iuDIhYMe4ik6"
      },
      "source": [
        "Можно еще получать по одному:"
      ]
    },
    {
      "cell_type": "code",
      "execution_count": null,
      "metadata": {
        "colab": {
          "base_uri": "https://localhost:8080/"
        },
        "id": "31fX2RYq4ik6",
        "outputId": "232ab159-8cd6-4e37-e6be-3b8604c0d34e"
      },
      "outputs": [
        {
          "output_type": "execute_result",
          "data": {
            "text/plain": [
              "<sqlite3.Cursor at 0x7e3d62d6e0c0>"
            ]
          },
          "metadata": {},
          "execution_count": 54
        }
      ],
      "source": [
        "c.execute(\"SELECT * FROM netflix_titles limit 3\")"
      ]
    },
    {
      "cell_type": "code",
      "execution_count": null,
      "metadata": {
        "colab": {
          "base_uri": "https://localhost:8080/"
        },
        "id": "ULklo2tZ4ik7",
        "outputId": "418be01d-c2e9-4ac3-81b8-ab0e1dcf13ea"
      },
      "outputs": [
        {
          "output_type": "execute_result",
          "data": {
            "text/plain": [
              "(81145628,\n",
              " 'Movie',\n",
              " 'Norm of the North: King Sized Adventure',\n",
              " 'Richard Finn, Tim Maltby',\n",
              " 'Alan Marriott, Andrew Toth, Brian Dobson, Cole Howard, Jennifer Cameron, Jonathan Holmes, Lee Tockar, Lisa Durupt, Maya Kay, Michael Dobson',\n",
              " 'United States, India, South Korea, China',\n",
              " 'September 9, 2019',\n",
              " 2019,\n",
              " 'TV-PG',\n",
              " '90 min',\n",
              " 'Children & Family Movies, Comedies',\n",
              " 'Before planning an awesome wedding for his grandfather, a polar bear king must take back a stolen artifact from an evil archaeologist first.')"
            ]
          },
          "metadata": {},
          "execution_count": 55
        }
      ],
      "source": [
        "c.fetchone()"
      ]
    },
    {
      "cell_type": "code",
      "execution_count": null,
      "metadata": {
        "id": "_9adz7qr4ik7",
        "outputId": "86b77f43-7a08-4c85-ff32-cdaa2ddfec53",
        "colab": {
          "base_uri": "https://localhost:8080/"
        }
      },
      "outputs": [
        {
          "output_type": "execute_result",
          "data": {
            "text/plain": [
              "(80117401,\n",
              " 'Movie',\n",
              " 'Jandino: Whatever it Takes',\n",
              " '',\n",
              " 'Jandino Asporaat',\n",
              " 'United Kingdom',\n",
              " 'September 9, 2016',\n",
              " 2016,\n",
              " 'TV-MA',\n",
              " '94 min',\n",
              " 'Stand-Up Comedy',\n",
              " 'Jandino Asporaat riffs on the challenges of raising kids and serenades the audience with a rousing rendition of \"Sex on Fire\" in his comedy show.')"
            ]
          },
          "metadata": {},
          "execution_count": 56
        }
      ],
      "source": [
        "c.fetchone()"
      ]
    },
    {
      "cell_type": "code",
      "execution_count": null,
      "metadata": {
        "id": "OxvwQ4iv4ik8",
        "outputId": "f1719af4-3ed2-4bd8-c3a4-e759fe5c7429",
        "colab": {
          "base_uri": "https://localhost:8080/"
        }
      },
      "outputs": [
        {
          "output_type": "execute_result",
          "data": {
            "text/plain": [
              "(70234439,\n",
              " 'TV Show',\n",
              " 'Transformers Prime',\n",
              " '',\n",
              " 'Peter Cullen, Sumalee Montano, Frank Welker, Jeffrey Combs, Kevin Michael Richardson, Tania Gunadi, Josh Keaton, Steve Blum, Andy Pessoa, Ernie Hudson, Daran Norris, Will Friedle',\n",
              " 'United States',\n",
              " 'September 8, 2018',\n",
              " 2013,\n",
              " 'TV-Y7-FV',\n",
              " '1 Season',\n",
              " \"Kids' TV\",\n",
              " 'With the help of three human allies, the Autobots once again protect Earth from the onslaught of the Decepticons and their leader, Megatron.')"
            ]
          },
          "metadata": {},
          "execution_count": 57
        }
      ],
      "source": [
        "c.fetchone()"
      ]
    },
    {
      "cell_type": "code",
      "execution_count": null,
      "metadata": {
        "id": "sI_nJtyC4ik9"
      },
      "outputs": [],
      "source": [
        "c.fetchone() # Все, курсор закончился."
      ]
    },
    {
      "cell_type": "code",
      "execution_count": null,
      "metadata": {
        "id": "0FEvNqaN4ik9",
        "outputId": "4a8d983c-5fd6-4b47-d147-1ea18380fb5e",
        "colab": {
          "base_uri": "https://localhost:8080/"
        }
      },
      "outputs": [
        {
          "output_type": "execute_result",
          "data": {
            "text/plain": [
              "[(81145628,\n",
              "  'Movie',\n",
              "  'Norm of the North: King Sized Adventure',\n",
              "  'Richard Finn, Tim Maltby',\n",
              "  'Alan Marriott, Andrew Toth, Brian Dobson, Cole Howard, Jennifer Cameron, Jonathan Holmes, Lee Tockar, Lisa Durupt, Maya Kay, Michael Dobson',\n",
              "  'United States, India, South Korea, China',\n",
              "  'September 9, 2019',\n",
              "  2019,\n",
              "  'TV-PG',\n",
              "  '90 min',\n",
              "  'Children & Family Movies, Comedies',\n",
              "  'Before planning an awesome wedding for his grandfather, a polar bear king must take back a stolen artifact from an evil archaeologist first.'),\n",
              " (80117401,\n",
              "  'Movie',\n",
              "  'Jandino: Whatever it Takes',\n",
              "  '',\n",
              "  'Jandino Asporaat',\n",
              "  'United Kingdom',\n",
              "  'September 9, 2016',\n",
              "  2016,\n",
              "  'TV-MA',\n",
              "  '94 min',\n",
              "  'Stand-Up Comedy',\n",
              "  'Jandino Asporaat riffs on the challenges of raising kids and serenades the audience with a rousing rendition of \"Sex on Fire\" in his comedy show.'),\n",
              " (70234439,\n",
              "  'TV Show',\n",
              "  'Transformers Prime',\n",
              "  '',\n",
              "  'Peter Cullen, Sumalee Montano, Frank Welker, Jeffrey Combs, Kevin Michael Richardson, Tania Gunadi, Josh Keaton, Steve Blum, Andy Pessoa, Ernie Hudson, Daran Norris, Will Friedle',\n",
              "  'United States',\n",
              "  'September 8, 2018',\n",
              "  2013,\n",
              "  'TV-Y7-FV',\n",
              "  '1 Season',\n",
              "  \"Kids' TV\",\n",
              "  'With the help of three human allies, the Autobots once again protect Earth from the onslaught of the Decepticons and their leader, Megatron.')]"
            ]
          },
          "metadata": {},
          "execution_count": 59
        }
      ],
      "source": [
        "c.execute(\"SELECT * FROM netflix_titles limit 3\")\n",
        "c.fetchall() # Как видим, у нас не итератор, а полноценный список."
      ]
    },
    {
      "cell_type": "markdown",
      "metadata": {
        "id": "Ez40pU8G4ik-"
      },
      "source": [
        "Как видим, не очень удобно, что возвращаются кортежи. Удобней было бы, чтобы словари."
      ]
    },
    {
      "cell_type": "code",
      "execution_count": null,
      "metadata": {
        "id": "0806SW0_4ik-",
        "outputId": "77a00179-576c-4c46-f904-58a40433d646",
        "colab": {
          "base_uri": "https://localhost:8080/"
        }
      },
      "outputs": [
        {
          "output_type": "execute_result",
          "data": {
            "text/plain": [
              "(('show_id', None, None, None, None, None, None),\n",
              " ('type', None, None, None, None, None, None),\n",
              " ('title', None, None, None, None, None, None),\n",
              " ('director', None, None, None, None, None, None),\n",
              " ('cast', None, None, None, None, None, None),\n",
              " ('country', None, None, None, None, None, None),\n",
              " ('date_added', None, None, None, None, None, None),\n",
              " ('release_year', None, None, None, None, None, None),\n",
              " ('rating', None, None, None, None, None, None),\n",
              " ('duration', None, None, None, None, None, None),\n",
              " ('listed_in', None, None, None, None, None, None),\n",
              " ('description', None, None, None, None, None, None))"
            ]
          },
          "metadata": {},
          "execution_count": 60
        }
      ],
      "source": [
        "c.description # вот тут есть описания полей."
      ]
    },
    {
      "cell_type": "code",
      "execution_count": null,
      "metadata": {
        "id": "rbTkkLEf4ik_"
      },
      "outputs": [],
      "source": [
        "def dict_factory(cursor, row):\n",
        "    # обертка для преобразования\n",
        "    # полученной строки. (взята из документации)\n",
        "    d = {}\n",
        "    for idx, col in enumerate(cursor.description):\n",
        "        d[col[0]] = row[idx]\n",
        "    return d"
      ]
    },
    {
      "cell_type": "code",
      "execution_count": null,
      "metadata": {
        "id": "yV_hMNIm4ilA"
      },
      "outputs": [],
      "source": [
        "conn.row_factory = dict_factory"
      ]
    },
    {
      "cell_type": "code",
      "execution_count": null,
      "metadata": {
        "id": "AGpyaQ_x4ilA",
        "colab": {
          "base_uri": "https://localhost:8080/"
        },
        "outputId": "099ae488-c4cb-460d-804b-07476777459c"
      },
      "outputs": [
        {
          "output_type": "execute_result",
          "data": {
            "text/plain": [
              "[(81145628,\n",
              "  'Movie',\n",
              "  'Norm of the North: King Sized Adventure',\n",
              "  'Richard Finn, Tim Maltby',\n",
              "  'Alan Marriott, Andrew Toth, Brian Dobson, Cole Howard, Jennifer Cameron, Jonathan Holmes, Lee Tockar, Lisa Durupt, Maya Kay, Michael Dobson',\n",
              "  'United States, India, South Korea, China',\n",
              "  'September 9, 2019',\n",
              "  2019,\n",
              "  'TV-PG',\n",
              "  '90 min',\n",
              "  'Children & Family Movies, Comedies',\n",
              "  'Before planning an awesome wedding for his grandfather, a polar bear king must take back a stolen artifact from an evil archaeologist first.'),\n",
              " (80117401,\n",
              "  'Movie',\n",
              "  'Jandino: Whatever it Takes',\n",
              "  '',\n",
              "  'Jandino Asporaat',\n",
              "  'United Kingdom',\n",
              "  'September 9, 2016',\n",
              "  2016,\n",
              "  'TV-MA',\n",
              "  '94 min',\n",
              "  'Stand-Up Comedy',\n",
              "  'Jandino Asporaat riffs on the challenges of raising kids and serenades the audience with a rousing rendition of \"Sex on Fire\" in his comedy show.'),\n",
              " (70234439,\n",
              "  'TV Show',\n",
              "  'Transformers Prime',\n",
              "  '',\n",
              "  'Peter Cullen, Sumalee Montano, Frank Welker, Jeffrey Combs, Kevin Michael Richardson, Tania Gunadi, Josh Keaton, Steve Blum, Andy Pessoa, Ernie Hudson, Daran Norris, Will Friedle',\n",
              "  'United States',\n",
              "  'September 8, 2018',\n",
              "  2013,\n",
              "  'TV-Y7-FV',\n",
              "  '1 Season',\n",
              "  \"Kids' TV\",\n",
              "  'With the help of three human allies, the Autobots once again protect Earth from the onslaught of the Decepticons and their leader, Megatron.')]"
            ]
          },
          "metadata": {},
          "execution_count": 63
        }
      ],
      "source": [
        "с = conn.cursor()\n",
        "c.execute(\"SELECT * FROM netflix_titles limit 3\")\n",
        "c.fetchall() # Теперь буду словари"
      ]
    },
    {
      "cell_type": "code",
      "execution_count": null,
      "metadata": {
        "id": "jzyeg3GL4ilB",
        "outputId": "07757b20-14f4-4598-f4d0-a2032d0132a7",
        "colab": {
          "base_uri": "https://localhost:8080/"
        }
      },
      "outputs": [
        {
          "output_type": "execute_result",
          "data": {
            "text/plain": [
              "[(273,)]"
            ]
          },
          "metadata": {},
          "execution_count": 64
        }
      ],
      "source": [
        "c.execute(\"SELECT count(*) as cnt FROM netflix_titles where listed_in='Stand-Up Comedy'\")\n",
        "c.fetchall() # Сколько вообще стендап комедий"
      ]
    },
    {
      "cell_type": "code",
      "execution_count": null,
      "metadata": {
        "id": "8plaGnkr4ilC",
        "outputId": "377463f1-4edb-46a7-cfb3-95df0303d88b",
        "colab": {
          "base_uri": "https://localhost:8080/"
        }
      },
      "outputs": [
        {
          "output_type": "execute_result",
          "data": {
            "text/plain": [
              "[('', 10),\n",
              " ('G', 37),\n",
              " ('NC-17', 2),\n",
              " ('NR', 218),\n",
              " ('PG', 184),\n",
              " ('PG-13', 286),\n",
              " ('R', 508),\n",
              " ('TV-14', 1698),\n",
              " ('TV-G', 149),\n",
              " ('TV-MA', 2027),\n",
              " ('TV-PG', 701),\n",
              " ('TV-Y', 143),\n",
              " ('TV-Y7', 169),\n",
              " ('TV-Y7-FV', 95),\n",
              " ('UR', 7)]"
            ]
          },
          "metadata": {},
          "execution_count": 65
        }
      ],
      "source": [
        "c.execute(\"SELECT rating, count(*) as cnt FROM netflix_titles group by rating\")\n",
        "c.fetchall() # Группируем по рейтингу\n",
        "# Важно тут сказать, что SQL -- замена pandas полноценная,\n",
        "# и всю обработку данных можно делать прямо внутри него"
      ]
    },
    {
      "cell_type": "markdown",
      "metadata": {
        "id": "FYdOCH1G4ilD"
      },
      "source": [
        "# Задания"
      ]
    },
    {
      "cell_type": "markdown",
      "metadata": {
        "id": "RA1vh63z4ilD"
      },
      "source": [
        "1. Нормализовать базу данных относительно актеров. Выделить таблицу с актерами, а также таблицу многие-ко-многим `актер-фильм`\n"
      ]
    },
    {
      "cell_type": "markdown",
      "source": [
        " **Создаем таблицу Актеров**"
      ],
      "metadata": {
        "id": "d4XWW3vhZrkV"
      }
    },
    {
      "cell_type": "code",
      "source": [
        "with conn:\n",
        "    c.execute(\"\"\"\n",
        "        CREATE TABLE Actors (\n",
        "        actor_id INTEGER PRIMARY KEY,\n",
        "        actor_name TEXT NOT NULL\n",
        "        );\n",
        "    \"\"\")"
      ],
      "metadata": {
        "id": "aRyP-0CBwbYT",
        "colab": {
          "base_uri": "https://localhost:8080/"
        },
        "outputId": "790e5ceb-1999-49aa-8167-13f317234c8a"
      },
      "execution_count": null,
      "outputs": [
        {
          "output_type": "execute_result",
          "data": {
            "text/plain": [
              "[]"
            ]
          },
          "metadata": {},
          "execution_count": 44
        }
      ]
    },
    {
      "cell_type": "markdown",
      "source": [
        "**Заполняем таблицу Актеров**"
      ],
      "metadata": {
        "id": "JYcNg7VQZ6G_"
      }
    },
    {
      "cell_type": "code",
      "source": [
        "c.execute(\"SELECT \\\"cast\\\" FROM netflix_titles\")\n",
        "cast = c.fetchall()\n",
        "people = set()\n",
        "for e in cast:\n",
        "    if len(e[0]) == 0:\n",
        "        continue\n",
        "\n",
        "    for i in e[0].split(', '):\n",
        "        people.add(i)\n",
        "\n",
        "peoples = list(people)\n",
        "for i in range(len(peoples)):\n",
        "    name = peoples[i]\n",
        "    peoples[i] = (i, name)\n",
        "\n",
        "with conn:\n",
        "    c.executemany(\"INSERT INTO Actors VALUES(?, ?)\", peoples)"
      ],
      "metadata": {
        "id": "g-A0TKVA94gk"
      },
      "execution_count": null,
      "outputs": []
    },
    {
      "cell_type": "markdown",
      "source": [
        "**Создаем таблицу Фильмов**"
      ],
      "metadata": {
        "id": "K4_Ck3QwZ11j"
      }
    },
    {
      "cell_type": "code",
      "source": [
        "with conn:\n",
        "    c.execute(\"\"\"\n",
        "        CREATE TABLE Films (\n",
        "        film_id INTEGER PRIMARY KEY,\n",
        "        film_name TEXT NOT NULL\n",
        "        );\n",
        "    \"\"\")\n"
      ],
      "metadata": {
        "id": "u4_LTldX8fS1"
      },
      "execution_count": null,
      "outputs": []
    },
    {
      "cell_type": "markdown",
      "source": [
        "**Заполняем таблицу Фильмов**"
      ],
      "metadata": {
        "id": "nag4kEMlZ9_K"
      }
    },
    {
      "cell_type": "code",
      "source": [
        "c.execute(\"SELECT \\\"title\\\" FROM netflix_titles\")\n",
        "cast = c.fetchall()\n",
        "film = set()\n",
        "for e in cast:\n",
        "    if len(e[0]) == 0:\n",
        "        continue\n",
        "\n",
        "    for i in e[0].split(', '):\n",
        "        film.add(i)\n",
        "\n",
        "films = list(film)\n",
        "for i in range(len(films)):\n",
        "    films[i] = (i, films[i])\n",
        "\n",
        "\n",
        "with conn:\n",
        "    c.executemany(\"INSERT INTO Films VALUES(?, ?)\", films)"
      ],
      "metadata": {
        "id": "fFGkwwR38f2K"
      },
      "execution_count": null,
      "outputs": []
    },
    {
      "cell_type": "markdown",
      "source": [
        "**Создаем таблицу Актер-Фильм**"
      ],
      "metadata": {
        "id": "KIq5ZKrDaGNI"
      }
    },
    {
      "cell_type": "code",
      "source": [
        "with conn:\n",
        "    c.execute(\"\"\"\n",
        "        CREATE TABLE Actor_Films200(\n",
        "            actor_id INTEGER,\n",
        "            actor_name TEXT,\n",
        "            film_names TEXT,\n",
        "            film_ids TEXT\n",
        "        );\n",
        "    \"\"\")"
      ],
      "metadata": {
        "id": "1AFr9Bvf-AH1"
      },
      "execution_count": null,
      "outputs": []
    },
    {
      "cell_type": "code",
      "source": [
        "import sqlite3\n",
        "\n",
        "conn = sqlite3.connect('netflix.sqlite')\n",
        "c = conn.cursor()  # Стандартный курсор = итератор по результатам запросов.\n",
        "\n",
        "c.execute(\"SELECT title, \\\"cast\\\"  FROM netflix_titles\")\n",
        "film_actors = c.fetchall()\n",
        "actors = set()\n",
        "for e in film_actors:\n",
        "    if len(e[1]) == 0:\n",
        "        continue\n",
        "    for i in e[1].split(', '):\n",
        "        actors.add((i, e[0]))\n",
        "\n",
        "films = list(actors)\n",
        "information = []\n",
        "counter = 0\n",
        "for i in range(len(films)):\n",
        "    try:\n",
        "      c.execute(\"SELECT film_id FROM Films WHERE film_name = ?\", (films[i][1],))\n",
        "      infor = c.fetchone()\n",
        "      id_film = infor[0]\n",
        "      info = (films[i][0], films[i][1], id_film)\n",
        "      information.append(info)\n",
        "    except:\n",
        "        continue\n",
        "\n",
        "final_information = []\n",
        "temp = set()\n",
        "for i in range(len(information)):\n",
        "\n",
        "    current_actor = information[i][0]\n",
        "    film_list = [information[i][1]]\n",
        "    film_id_list = [information[i][2]]\n",
        "    if not (current_actor in temp):\n",
        "        for j in range(i + 1, len(information)):\n",
        "            if information[j][0] == current_actor:\n",
        "                film_list.append(information[j][1])\n",
        "                film_id_list.append(information[j][2])\n",
        "\n",
        "        text_film = ''\n",
        "        for g in film_list:\n",
        "            text_film += str(g) + ', '\n",
        "\n",
        "        text_film = text_film[:-2]\n",
        "        text_id = ''\n",
        "        for p in film_id_list:\n",
        "            text_id += str(p) + ', '\n",
        "\n",
        "        text_id = text_id[:-2]\n",
        "        c.execute(\"SELECT actor_id FROM Actors WHERE \tactor_name = ?\", (current_actor,))\n",
        "        infor = c.fetchone()\n",
        "        final_information.append((infor[0], current_actor, text_film, text_id))\n",
        "        temp.add(current_actor)\n",
        "    else:\n",
        "        continue\n",
        "\n",
        "\n",
        "with conn:\n",
        "    c.executemany(\"INSERT INTO Actor_Films VALUES(?, ?, ?, ?)\", final_information)"
      ],
      "metadata": {
        "id": "PxCT0VsGBus7"
      },
      "execution_count": null,
      "outputs": []
    },
    {
      "cell_type": "markdown",
      "metadata": {
        "id": "hiLGYBfB4ilE"
      },
      "source": [
        "2. Исходя из этой таблицы, средствами SQL, вычислить наболее часто работающую друг с другом пару актеров."
      ]
    },
    {
      "cell_type": "code",
      "source": [
        "import sqlite3\n",
        "\n",
        "conn = sqlite3.connect('netflix.sqlite')\n",
        "c = conn.cursor()\n",
        "c.execute(\"SELECT actor_id, film_ids FROM Actor_Films\")\n",
        "info = c.fetchall()\n",
        "max_num = 0\n",
        "max_films = 0\n",
        "len_id = len(info)\n",
        "name = \"\"\n",
        "name2 = \"\"\n",
        "for i in range(len_id - 1):\n",
        "    actor_1 = info[i][0]\n",
        "    films_1 = info[i][1].split(', ')\n",
        "    if len(films_1) > max_num:\n",
        "        for j in range(i + 1, len_id):\n",
        "            actor_2 = info[j][0]\n",
        "            films_2 = info[j][1].split(', ')\n",
        "            if len(films_2) > max_num:\n",
        "                if len(films_2) + len(films_1) - len(set(films_2 + films_1)) > max_num:\n",
        "                    max_num = len(films_2) + len(films_1) - len(set(films_2 + films_1))\n",
        "                    c.execute(f\"SELECT * FROM Actor_Films WHERE actor_id = {actor_1}\")\n",
        "                    name = c.fetchone()\n",
        "                    c.execute(f\"SELECT * FROM Actor_Films WHERE actor_id = {actor_2}\")\n",
        "                    name2 = c.fetchone()\n",
        "                if len(films_1) > max_films:\n",
        "                    max_films = len(films_1)\n",
        "\n",
        "\n",
        "print(name[1])\n",
        "print(name2[1])"
      ],
      "metadata": {
        "id": "KdmqzuOmZI9O",
        "colab": {
          "base_uri": "https://localhost:8080/"
        },
        "outputId": "add58978-0d27-4fd6-bc06-342eabfb26c9"
      },
      "execution_count": null,
      "outputs": [
        {
          "output_type": "stream",
          "name": "stdout",
          "text": [
            "John Paul Tremblay\n",
            "Robb Wells\n"
          ]
        }
      ]
    },
    {
      "cell_type": "markdown",
      "metadata": {
        "id": "jHNyHAZs4ilF"
      },
      "source": []
    }
  ],
  "metadata": {
    "kernelspec": {
      "display_name": "Python 3",
      "language": "python",
      "name": "python3"
    },
    "language_info": {
      "codemirror_mode": {
        "name": "ipython",
        "version": 3
      },
      "file_extension": ".py",
      "mimetype": "text/x-python",
      "name": "python",
      "nbconvert_exporter": "python",
      "pygments_lexer": "ipython3",
      "version": "3.6.9"
    },
    "colab": {
      "provenance": [],
      "collapsed_sections": [
        "iVi5Jyplevm8"
      ]
    }
  },
  "nbformat": 4,
  "nbformat_minor": 0
}